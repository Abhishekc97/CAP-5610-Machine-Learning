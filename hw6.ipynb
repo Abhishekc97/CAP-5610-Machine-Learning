{
 "cells": [
  {
   "cell_type": "code",
   "execution_count": 1,
   "metadata": {},
   "outputs": [],
   "source": [
    "import sklearn\n",
    "import pandas as pd\n",
    "import numpy as np\n",
    "import matplotlib.pyplot as plt\n",
    "plt.rcParams['figure.figsize'] = (20, 20)\n",
    "plt.style.use('ggplot')\n",
    "%matplotlib inline\n",
    "from copy import deepcopy\n",
    "from sklearn import metrics"
   ]
  },
  {
   "cell_type": "code",
   "execution_count": 2,
   "metadata": {
    "scrolled": true
   },
   "outputs": [
    {
     "name": "stdout",
     "output_type": "stream",
     "text": [
      "   season16  season17\n",
      "0         3         5\n",
      "1         3         4\n",
      "2         2         8\n",
      "3         2         3\n",
      "4         6         2\n",
      "5         6         4\n",
      "6         7         3\n",
      "7         7         4\n",
      "8         8         5\n",
      "9         7         6\n"
     ]
    }
   ],
   "source": [
    "data = pd.read_csv('fbteamwins.csv')\n",
    "print(data)"
   ]
  },
  {
   "cell_type": "code",
   "execution_count": 3,
   "metadata": {},
   "outputs": [
    {
     "data": {
      "text/plain": [
       "<matplotlib.collections.PathCollection at 0x183069285c0>"
      ]
     },
     "execution_count": 3,
     "metadata": {},
     "output_type": "execute_result"
    },
    {
     "data": {
      "image/png": "[encoded data removed]",
      "text/plain": [
       "<Figure size 432x288 with 1 Axes>"
      ]
     },
     "metadata": {
      "needs_background": "light"
     },
     "output_type": "display_data"
    }
   ],
   "source": [
    "col1 = data['season16'].values\n",
    "col2 = data['season17'].values\n",
    "X = np.array(list(zip(col1, col2)))\n",
    "plt.scatter(col1, col2, c='black')"
   ]
  },
  {
   "cell_type": "code",
   "execution_count": 4,
   "metadata": {},
   "outputs": [],
   "source": [
    "k = 2\n",
    "Centroids1x = [4,5]\n",
    "Centroids1y = [6,4]\n",
    "C = np.array(list(zip(Centroids1x, Centroids1y)), dtype=np.float32)"
   ]
  },
  {
   "cell_type": "code",
   "execution_count": 5,
   "metadata": {},
   "outputs": [],
   "source": [
    "def manhattan(a, b, ax=1):\n",
    "    return np.sum(np.abs(a-b), axis=ax)\n",
    "\n",
    "def euclidean(a, b, ax=1):\n",
    "    return np.sum((a-b)**2, axis=ax)\n",
    "\n",
    "def cosine(a,b, ax=1):\n",
    "    if a is None or b is None:\n",
    "        return float('inf')\n",
    "    return 1 - (np.dot(a[1:], b[1:])/(norm(a[1:])*norm(b[1:])))\n",
    "#     val = sklearn.metrics.pairwise.cosine_similarity(a, b, dense_output=False)\n",
    "#     val = 1- np.dot(a,b) /(np.linalg.norm(a))*np.sum(np.linalg.norm(b))\n",
    "#     val.reshape(1, -1)\n",
    "#     return 1-normalize(X.reshape(-1, X.shape[1]), axis=1).dot(normalize(p.reshape(-1, 1), axis=0))\n",
    "#     return val\n",
    "\n",
    "def jaccard(a, b, ax=1):\n",
    "    return (1-np.sum(np.minimum(a,b),axis=ax)/np.sum(np.maximum(a,b),axis=ax))\n",
    "\n",
    "distMetric = {\"manhattan\":0, \"euclidean\":1, \"cosine\":2, \"jaccard\":3}\n",
    "metrics = {\n",
    "        distMetric['manhattan']: manhattan,\n",
    "        distMetric['euclidean']: euclidean,\n",
    "        distMetric['cosine']: cosine,\n",
    "        distMetric['jaccard']: jaccard\n",
    "    }\n",
    "def sse(X, clusters, C, metric=euclidean):\n",
    "    sseVal = 0\n",
    "    for i, centroid in enumerate(C):\n",
    "        sseVal += np.sum(metric(X[np.where(clusters==i)], centroid))\n",
    "    \n",
    "    return sseVal"
   ]
  },
  {
   "cell_type": "code",
   "execution_count": 6,
   "metadata": {},
   "outputs": [],
   "source": [
    "maxIT = 100\n",
    "\n",
    "def kmeans(X, C = C, k=2, metric = distMetric['manhattan'], max_iter= maxIT):\n",
    "    np.random.seed(99)\n",
    "    \n",
    "    if C is None:\n",
    "        C = X[np.random.choice(len(X), size=k, replace=False)]\n",
    "    C_old = np.ones(C.shape)\n",
    "    clusters = np.zeros(len(X))\n",
    "    \n",
    "    metrics = {\n",
    "        distMetric['manhattan']: manhattan,\n",
    "        distMetric['euclidean']: euclidean,\n",
    "        distMetric['cosine']: cosine,\n",
    "        distMetric['jaccard']: jaccard\n",
    "    }\n",
    "    \n",
    "    error = metrics[metric](C, C_old, None)\n",
    "    error = np.array(error)\n",
    "    count = 1\n",
    "    prev_sse = 0\n",
    "    curr_sse = 0\n",
    "    while error.any() != 0:\n",
    "        for i in range(len(X)):\n",
    "            distances = metrics[metric](X[i], C)\n",
    "            cluster = np.argmin([distances])\n",
    "            clusters[i] = cluster\n",
    "        C_old = deepcopy(C)\n",
    "        curr_sse = sse(X, clusters, C)\n",
    "        print('Iteration: {}'.format(count))\n",
    "        print('Current SSE: {}'.format(curr_sse))\n",
    "        print('Previous SSE: {}'.format(prev_sse))\n",
    "        for i in range(k):\n",
    "            points = [X[j] for j in range(len(X)) if clusters[j] == i]\n",
    "            C[i] = np.mean(points, axis=0) \n",
    "        error_old = deepcopy(error)\n",
    "        error = metrics[metric](C, C_old, None)\n",
    "        if count>0:\n",
    "            if np.sum(error_old) == np.sum(error):\n",
    "                break\n",
    "        if count>max_iter+1:\n",
    "            break\n",
    "        count = count+1\n",
    "        prev_sse = curr_sse\n",
    "    return clusters, count"
   ]
  },
  {
   "cell_type": "markdown",
   "metadata": {},
   "source": [
    "# Q1.1"
   ]
  },
  {
   "cell_type": "code",
   "execution_count": 7,
   "metadata": {},
   "outputs": [
    {
     "name": "stdout",
     "output_type": "stream",
     "text": [
      "Iteration: 1\n",
      "Current SSE: 58.0\n",
      "Previous SSE: 0\n",
      "Iteration: 2\n",
      "Current SSE: 54.09523809523847\n",
      "Previous SSE: 58.0\n",
      "count: 3\n",
      "clusters [0. 1. 0. 1. 1. 1. 1. 1. 1. 0.]\n"
     ]
    },
    {
     "data": {
      "text/plain": [
       "<matplotlib.collections.PathCollection at 0x18306a40da0>"
      ]
     },
     "execution_count": 7,
     "metadata": {},
     "output_type": "execute_result"
    },
    {
     "data": {
      "image/png": "[encoded data removed]",
      "text/plain": [
       "<Figure size 432x288 with 1 Axes>"
      ]
     },
     "metadata": {
      "needs_background": "light"
     },
     "output_type": "display_data"
    },
    {
     "data": {
      "image/png": "[encoded data removed]",
      "text/plain": [
       "<Figure size 432x288 with 1 Axes>"
      ]
     },
     "metadata": {
      "needs_background": "light"
     },
     "output_type": "display_data"
    }
   ],
   "source": [
    "k = 2\n",
    "Centroids1x = [4,5]\n",
    "Centroids1y = [6,4]\n",
    "Centroids1 = np.array(list(zip(Centroids1x, Centroids1y)), dtype=np.float32)\n",
    "plt.scatter(col1, col2, c='black')\n",
    "plt.scatter(Centroids1x, Centroids1y, marker='*', s=200, c ='g')\n",
    "\n",
    "clusters, count = kmeans(X, C = C, k = 2, metric = distMetric['manhattan'], max_iter = 100)\n",
    "print('count:', count)\n",
    "print('clusters', clusters)\n",
    "colors = ['c', 'm', 'y','b','g']\n",
    "fig, ax = plt.subplots()\n",
    "for i in range(k):\n",
    "        points = np.array([X[j] for j in range(len(X)) if clusters[j] == i])\n",
    "        ax.scatter(points[:, 0], points[:, 1], c=colors[i])\n",
    "ax.scatter(C[:, 0], C[:, 1], marker='*', s=200, c='g')"
   ]
  },
  {
   "cell_type": "markdown",
   "metadata": {},
   "source": [
    "# Q1.2"
   ]
  },
  {
   "cell_type": "code",
   "execution_count": 8,
   "metadata": {},
   "outputs": [
    {
     "name": "stdout",
     "output_type": "stream",
     "text": [
      "Iteration: 1\n",
      "Current SSE: 52.57142770858076\n",
      "Previous SSE: 0\n",
      "Iteration: 2\n",
      "Current SSE: 32.70521512539767\n",
      "Previous SSE: 52.57142770858076\n",
      "Iteration: 3\n",
      "Current SSE: 27.833333333333485\n",
      "Previous SSE: 32.70521512539767\n",
      "count: 4\n",
      "clusters [0. 0. 0. 0. 1. 1. 1. 1. 1. 1.]\n"
     ]
    },
    {
     "data": {
      "text/plain": [
       "<matplotlib.collections.PathCollection at 0x18306b26eb8>"
      ]
     },
     "execution_count": 8,
     "metadata": {},
     "output_type": "execute_result"
    },
    {
     "data": {
      "image/png": "[encoded data removed]",
      "text/plain": [
       "<Figure size 432x288 with 1 Axes>"
      ]
     },
     "metadata": {
      "needs_background": "light"
     },
     "output_type": "display_data"
    },
    {
     "data": {
      "image/png": "[encoded data removed]",
      "text/plain": [
       "<Figure size 432x288 with 1 Axes>"
      ]
     },
     "metadata": {
      "needs_background": "light"
     },
     "output_type": "display_data"
    }
   ],
   "source": [
    "k = 2\n",
    "Centroids1x = [4,5]\n",
    "Centroids1y = [6,4]\n",
    "Centroids1 = np.array(list(zip(Centroids1x, Centroids1y)), dtype=np.float32)\n",
    "plt.scatter(col1, col2, c='black')\n",
    "plt.scatter(Centroids1x, Centroids1y, marker='*', s=200, c ='g')\n",
    "\n",
    "clusters, count = kmeans(X, C = C, k = 2, metric = distMetric['euclidean'], max_iter = 100)\n",
    "print('count:', count)\n",
    "print('clusters', clusters)\n",
    "colors = ['c', 'm', 'y','b','g']\n",
    "fig, ax = plt.subplots()\n",
    "for i in range(k):\n",
    "        points = np.array([X[j] for j in range(len(X)) if clusters[j] == i])\n",
    "        ax.scatter(points[:, 0], points[:, 1], c=colors[i])\n",
    "ax.scatter(C[:, 0], C[:, 1], marker='*', s=200, c='g')"
   ]
  },
  {
   "cell_type": "markdown",
   "metadata": {},
   "source": [
    "# Q1.3"
   ]
  },
  {
   "cell_type": "code",
   "execution_count": 9,
   "metadata": {},
   "outputs": [
    {
     "name": "stdout",
     "output_type": "stream",
     "text": [
      "Iteration: 1\n",
      "Current SSE: 27.833333333333485\n",
      "Previous SSE: 0\n",
      "count: 2\n",
      "clusters [0. 0. 0. 0. 1. 1. 1. 1. 1. 1.]\n"
     ]
    },
    {
     "data": {
      "text/plain": [
       "<matplotlib.collections.PathCollection at 0x18306c073c8>"
      ]
     },
     "execution_count": 9,
     "metadata": {},
     "output_type": "execute_result"
    },
    {
     "data": {
      "image/png": "[encoded data removed]",
      "text/plain": [
       "<Figure size 432x288 with 1 Axes>"
      ]
     },
     "metadata": {
      "needs_background": "light"
     },
     "output_type": "display_data"
    },
    {
     "data": {
      "image/png": "[encoded data removed]",
      "text/plain": [
       "<Figure size 432x288 with 1 Axes>"
      ]
     },
     "metadata": {
      "needs_background": "light"
     },
     "output_type": "display_data"
    }
   ],
   "source": [
    "k = 2\n",
    "Centroids1x = [3,8]\n",
    "Centroids1y = [3,3]\n",
    "Centroids1 = np.array(list(zip(Centroids1x, Centroids1y)), dtype=np.float32)\n",
    "plt.scatter(col1, col2, c='black')\n",
    "plt.scatter(Centroids1x, Centroids1y, marker='*', s=200, c ='g')\n",
    "\n",
    "clusters, count = kmeans(X, C = C, k = 2, metric = distMetric['manhattan'], max_iter = 100)\n",
    "print('count:', count)\n",
    "print('clusters', clusters)\n",
    "colors = ['c', 'm', 'y','b','g']\n",
    "fig, ax = plt.subplots()\n",
    "for i in range(k):\n",
    "        points = np.array([X[j] for j in range(len(X)) if clusters[j] == i])\n",
    "        ax.scatter(points[:, 0], points[:, 1], c=colors[i])\n",
    "ax.scatter(C[:, 0], C[:, 1], marker='*', s=200, c='g')"
   ]
  },
  {
   "cell_type": "markdown",
   "metadata": {},
   "source": [
    "# Q1.4 "
   ]
  },
  {
   "cell_type": "code",
   "execution_count": 10,
   "metadata": {},
   "outputs": [
    {
     "name": "stdout",
     "output_type": "stream",
     "text": [
      "Iteration: 1\n",
      "Current SSE: 27.833333333333485\n",
      "Previous SSE: 0\n",
      "count: 2\n",
      "clusters [0. 0. 0. 0. 1. 1. 1. 1. 1. 1.]\n"
     ]
    },
    {
     "data": {
      "text/plain": [
       "<matplotlib.collections.PathCollection at 0x18306a7fc88>"
      ]
     },
     "execution_count": 10,
     "metadata": {},
     "output_type": "execute_result"
    },
    {
     "data": {
      "image/png": "[encoded data removed]",
      "text/plain": [
       "<Figure size 432x288 with 1 Axes>"
      ]
     },
     "metadata": {
      "needs_background": "light"
     },
     "output_type": "display_data"
    },
    {
     "data": {
      "image/png": "[encoded data removed]",
      "text/plain": [
       "<Figure size 432x288 with 1 Axes>"
      ]
     },
     "metadata": {
      "needs_background": "light"
     },
     "output_type": "display_data"
    }
   ],
   "source": [
    "k = 2\n",
    "Centroids1x = [3,4]\n",
    "Centroids1y = [2,8]\n",
    "Centroids1 = np.array(list(zip(Centroids1x, Centroids1y)), dtype=np.float32)\n",
    "plt.scatter(col1, col2, c='black')\n",
    "plt.scatter(Centroids1x, Centroids1y, marker='*', s=200, c ='g')\n",
    "\n",
    "clusters, count = kmeans(X, C = C, k = 2, metric = distMetric['manhattan'], max_iter = 100)\n",
    "print('count:', count)\n",
    "print('clusters', clusters)\n",
    "colors = ['c', 'm', 'y','b','g']\n",
    "fig, ax = plt.subplots()\n",
    "for i in range(k):\n",
    "        points = np.array([X[j] for j in range(len(X)) if clusters[j] == i])\n",
    "        ax.scatter(points[:, 0], points[:, 1], c=colors[i])\n",
    "ax.scatter(C[:, 0], C[:, 1], marker='*', s=200, c='g')"
   ]
  },
  {
   "cell_type": "markdown",
   "metadata": {},
   "source": [
    "# Q2 Iris"
   ]
  },
  {
   "cell_type": "code",
   "execution_count": 11,
   "metadata": {},
   "outputs": [],
   "source": [
    "df = pd.read_table(\"iris.data\", sep=\",\", header=None, names=['sepalLength', 'sepalWidth', 'petalLength', 'petalWidth', 'class'])"
   ]
  },
  {
   "cell_type": "code",
   "execution_count": 12,
   "metadata": {},
   "outputs": [
    {
     "data": {
      "text/html": [
       "<div>\n",
       "<style scoped>\n",
       "    .dataframe tbody tr th:only-of-type {\n",
       "        vertical-align: middle;\n",
       "    }\n",
       "\n",
       "    .dataframe tbody tr th {\n",
       "        vertical-align: top;\n",
       "    }\n",
       "\n",
       "    .dataframe thead th {\n",
       "        text-align: right;\n",
       "    }\n",
       "</style>\n",
       "<table border=\"1\" class=\"dataframe\">\n",
       "  <thead>\n",
       "    <tr style=\"text-align: right;\">\n",
       "      <th></th>\n",
       "      <th>sepalLength</th>\n",
       "      <th>sepalWidth</th>\n",
       "      <th>petalLength</th>\n",
       "      <th>petalWidth</th>\n",
       "      <th>class</th>\n",
       "    </tr>\n",
       "  </thead>\n",
       "  <tbody>\n",
       "    <tr>\n",
       "      <th>0</th>\n",
       "      <td>5.1</td>\n",
       "      <td>3.5</td>\n",
       "      <td>1.4</td>\n",
       "      <td>0.2</td>\n",
       "      <td>0</td>\n",
       "    </tr>\n",
       "    <tr>\n",
       "      <th>1</th>\n",
       "      <td>4.9</td>\n",
       "      <td>3.0</td>\n",
       "      <td>1.4</td>\n",
       "      <td>0.2</td>\n",
       "      <td>0</td>\n",
       "    </tr>\n",
       "    <tr>\n",
       "      <th>2</th>\n",
       "      <td>4.7</td>\n",
       "      <td>3.2</td>\n",
       "      <td>1.3</td>\n",
       "      <td>0.2</td>\n",
       "      <td>0</td>\n",
       "    </tr>\n",
       "    <tr>\n",
       "      <th>3</th>\n",
       "      <td>4.6</td>\n",
       "      <td>3.1</td>\n",
       "      <td>1.5</td>\n",
       "      <td>0.2</td>\n",
       "      <td>0</td>\n",
       "    </tr>\n",
       "    <tr>\n",
       "      <th>4</th>\n",
       "      <td>5.0</td>\n",
       "      <td>3.6</td>\n",
       "      <td>1.4</td>\n",
       "      <td>0.2</td>\n",
       "      <td>0</td>\n",
       "    </tr>\n",
       "  </tbody>\n",
       "</table>\n",
       "</div>"
      ],
      "text/plain": [
       "   sepalLength  sepalWidth  petalLength  petalWidth  class\n",
       "0          5.1         3.5          1.4         0.2      0\n",
       "1          4.9         3.0          1.4         0.2      0\n",
       "2          4.7         3.2          1.3         0.2      0\n",
       "3          4.6         3.1          1.5         0.2      0\n",
       "4          5.0         3.6          1.4         0.2      0"
      ]
     },
     "execution_count": 12,
     "metadata": {},
     "output_type": "execute_result"
    }
   ],
   "source": [
    "df['class'] = pd.Categorical(df['class'])\n",
    "df['class'] = df['class'].cat.codes\n",
    "df.head()"
   ]
  },
  {
   "cell_type": "code",
   "execution_count": 13,
   "metadata": {},
   "outputs": [],
   "source": [
    "X = df[df.columns[:-1]].values"
   ]
  },
  {
   "cell_type": "code",
   "execution_count": 14,
   "metadata": {},
   "outputs": [
    {
     "data": {
      "text/plain": [
       "<matplotlib.collections.PathCollection at 0x183069eaeb8>"
      ]
     },
     "execution_count": 14,
     "metadata": {},
     "output_type": "execute_result"
    },
    {
     "data": {
      "image/png": "[encoded data removed]",
      "text/plain": [
       "<Figure size 432x288 with 1 Axes>"
      ]
     },
     "metadata": {
      "needs_background": "light"
     },
     "output_type": "display_data"
    }
   ],
   "source": [
    "plt.scatter(X[:, 0], X[:, 1], c='black')"
   ]
  },
  {
   "cell_type": "markdown",
   "metadata": {},
   "source": [
    "# Euclidean"
   ]
  },
  {
   "cell_type": "code",
   "execution_count": 15,
   "metadata": {},
   "outputs": [
    {
     "name": "stdout",
     "output_type": "stream",
     "text": [
      "Iteration: 1\n",
      "Current SSE: 133.26\n",
      "Previous SSE: 0\n",
      "Iteration: 2\n",
      "Current SSE: 79.13199166666668\n",
      "Previous SSE: 133.26\n",
      "Iteration: 3\n",
      "Current SSE: 78.940841426146\n",
      "Previous SSE: 79.13199166666668\n",
      "4\n"
     ]
    }
   ],
   "source": [
    "clusters, count = kmeans(X, C=None, k=3, metric=distMetric['euclidean'], max_iter= maxIT)\n",
    "print(count)"
   ]
  },
  {
   "cell_type": "code",
   "execution_count": 16,
   "metadata": {},
   "outputs": [],
   "source": [
    "def predict(clusters, y, k=3):\n",
    "    indexes = []\n",
    "    for i in range(k):\n",
    "        indexes.append(np.where(clusters == i))\n",
    "    for cluster in indexes:\n",
    "        mode = int(stats.mode(y[cluster])[0])\n",
    "        clusters[cluster] = mode\n",
    "    return clusters"
   ]
  },
  {
   "cell_type": "code",
   "execution_count": 17,
   "metadata": {},
   "outputs": [
    {
     "data": {
      "text/plain": [
       "0.8933333333333333"
      ]
     },
     "execution_count": 17,
     "metadata": {},
     "output_type": "execute_result"
    }
   ],
   "source": [
    "from sklearn import metrics\n",
    "from scipy import stats\n",
    "\n",
    "pred_val = predict(clusters, df['class'].values)\n",
    "metrics.accuracy_score(df['class'].values, pred_val)"
   ]
  },
  {
   "cell_type": "code",
   "execution_count": 18,
   "metadata": {},
   "outputs": [
    {
     "data": {
      "image/png": "[encoded data removed]",
      "text/plain": [
       "<Figure size 432x288 with 1 Axes>"
      ]
     },
     "metadata": {
      "needs_background": "light"
     },
     "output_type": "display_data"
    }
   ],
   "source": [
    "colors = ['c', 'm', 'y','b','g']\n",
    "fig, ax = plt.subplots()\n",
    "for i in range(3):\n",
    "        points = np.array([X[j] for j in range(len(X)) if clusters[j] == i])\n",
    "        ax.scatter(points[:, 0], points[:, 1], c=colors[i])"
   ]
  },
  {
   "cell_type": "markdown",
   "metadata": {},
   "source": [
    "# Cosine"
   ]
  },
  {
   "cell_type": "code",
   "execution_count": null,
   "metadata": {},
   "outputs": [],
   "source": [
    "clusters, count = kmeans(X, C=None, k=3, metric=distMetric['cosine'], max_iter= maxIT)\n",
    "print('count:',count)"
   ]
  },
  {
   "cell_type": "code",
   "execution_count": null,
   "metadata": {},
   "outputs": [],
   "source": [
    "pred_val = predict(clusters, df['class'].values)\n",
    "accuracy = metrics.accuracy_score(df['class'].values, clusters)\n",
    "print(accuracy)"
   ]
  },
  {
   "cell_type": "code",
   "execution_count": null,
   "metadata": {},
   "outputs": [],
   "source": [
    "colors = ['c', 'm', 'y','b','g']\n",
    "fig, ax = plt.subplots()\n",
    "for i in range(3):\n",
    "        points = np.array([X[j] for j in range(len(X)) if clusters[j] == i])\n",
    "        ax.scatter(points[:, 0], points[:, 1], c=colors[i])"
   ]
  },
  {
   "cell_type": "markdown",
   "metadata": {},
   "source": [
    "# Jaccard"
   ]
  },
  {
   "cell_type": "code",
   "execution_count": 20,
   "metadata": {},
   "outputs": [
    {
     "name": "stdout",
     "output_type": "stream",
     "text": [
      "Iteration: 1\n",
      "Current SSE: 134.84\n",
      "Previous SSE: 0\n",
      "Iteration: 2\n",
      "Current SSE: 80.52825766992748\n",
      "Previous SSE: 134.84\n",
      "Iteration: 3\n",
      "Current SSE: 80.15236575181797\n",
      "Previous SSE: 80.52825766992748\n",
      "Iteration: 4\n",
      "Current SSE: 79.69157708333331\n",
      "Previous SSE: 80.15236575181797\n",
      "Iteration: 5\n",
      "Current SSE: 79.23624424524454\n",
      "Previous SSE: 79.69157708333331\n",
      "Iteration: 6\n",
      "Current SSE: 79.18674974533107\n",
      "Previous SSE: 79.23624424524454\n",
      "count: 7\n"
     ]
    }
   ],
   "source": [
    "clusters,count = kmeans(X, C=None, k=3, metric=distMetric['jaccard'], max_iter= maxIT)\n",
    "print('count:',count)"
   ]
  },
  {
   "cell_type": "code",
   "execution_count": 21,
   "metadata": {},
   "outputs": [
    {
     "name": "stdout",
     "output_type": "stream",
     "text": [
      "0.88\n"
     ]
    }
   ],
   "source": [
    "pred_val = predict(clusters, df['class'].values)\n",
    "accuracy = metrics.accuracy_score(df['class'].values, clusters)\n",
    "print(accuracy)"
   ]
  },
  {
   "cell_type": "code",
   "execution_count": 22,
   "metadata": {},
   "outputs": [
    {
     "data": {
      "image/png": "[encoded data removed]",
      "text/plain": [
       "<Figure size 432x288 with 1 Axes>"
      ]
     },
     "metadata": {
      "needs_background": "light"
     },
     "output_type": "display_data"
    }
   ],
   "source": [
    "colors = ['c', 'm', 'y','b','g']\n",
    "fig, ax = plt.subplots()\n",
    "for i in range(3):\n",
    "        points = np.array([X[j] for j in range(len(X)) if clusters[j] == i])\n",
    "        ax.scatter(points[:, 0], points[:, 1], c=colors[i])"
   ]
  },
  {
   "cell_type": "markdown",
   "metadata": {},
   "source": [
    "Question 2 : Iris data\n",
    "2.1]\n",
    "SSE for Euclidean distance is lower by 1 point than jaccard\n",
    "\n",
    "2.2]\n",
    "K means gave better accuracy with euclidean distance , which is 0.8933 or 89.3% as compared to jaccard 88 %\n",
    "\n",
    "2.3]\n",
    "Jaccard required more iterations\n",
    "\n",
    "2.4]\n",
    "Increasing SSE value means that clusters are unable to form easily."
   ]
  }
 ],
 "metadata": {
  "kernelspec": {
   "display_name": "Python 3",
   "language": "python",
   "name": "python3"
  },
  "language_info": {
   "codemirror_mode": {
    "name": "ipython",
    "version": 3
   },
   "file_extension": ".py",
   "mimetype": "text/x-python",
   "name": "python",
   "nbconvert_exporter": "python",
   "pygments_lexer": "ipython3",
   "version": "3.6.5"
  }
 },
 "nbformat": 4,
 "nbformat_minor": 2
}
